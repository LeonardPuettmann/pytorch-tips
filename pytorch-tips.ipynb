{
  "cells": [
    {
      "cell_type": "markdown",
      "metadata": {
        "id": "_02GoQjUEfCg"
      },
      "source": [
        "## Tip #1 🔥 - Using your GPU"
      ]
    },
    {
      "cell_type": "code",
      "execution_count": 1,
      "metadata": {
        "id": "25a7ubL2EYC_"
      },
      "outputs": [
        {
          "ename": "NameError",
          "evalue": "name 'devie' is not defined",
          "output_type": "error",
          "traceback": [
            "\u001b[1;31m---------------------------------------------------------------------------\u001b[0m",
            "\u001b[1;31mNameError\u001b[0m                                 Traceback (most recent call last)",
            "Cell \u001b[1;32mIn[1], line 10\u001b[0m\n\u001b[0;32m      7\u001b[0m tensor \u001b[38;5;241m=\u001b[39m torch\u001b[38;5;241m.\u001b[39marange(\u001b[38;5;241m1\u001b[39m, \u001b[38;5;241m10\u001b[39m)\n\u001b[0;32m      9\u001b[0m \u001b[38;5;66;03m# move the tensor to the gpu\u001b[39;00m\n\u001b[1;32m---> 10\u001b[0m gpu_tensor \u001b[38;5;241m=\u001b[39m tensor\u001b[38;5;241m.\u001b[39mto(\u001b[43mdevie\u001b[49m)\n\u001b[0;32m     12\u001b[0m \u001b[38;5;66;03m# move tensor back to cpu\u001b[39;00m\n\u001b[0;32m     13\u001b[0m cpu_tensor \u001b[38;5;241m=\u001b[39m gpu_tensor\u001b[38;5;241m.\u001b[39mcpu()\n",
            "\u001b[1;31mNameError\u001b[0m: name 'devie' is not defined"
          ]
        }
      ],
      "source": [
        "import torch\n",
        "\n",
        "# check if CUDA is available\n",
        "device = torch.device(\"cuda\" if torch.cuda.is_available() else \"cpu\")\n",
        "\n",
        "# define a tensor\n",
        "tensor = torch.arange(1, 10)\n",
        "\n",
        "# move the tensor to the gpu\n",
        "gpu_tensor = tensor.to(device)\n",
        "\n",
        "# move tensor back to cpu\n",
        "cpu_tensor = gpu_tensor.cpu()"
      ]
    },
    {
      "cell_type": "markdown",
      "metadata": {
        "id": "Ta5IE2aVEkLl"
      },
      "source": [
        "## Tip #2 🔥 - Using `.inference_mode()`"
      ]
    },
    {
      "cell_type": "code",
      "execution_count": null,
      "metadata": {
        "id": "Wh9zXkdwEko2"
      },
      "outputs": [],
      "source": [
        "import torch\n",
        "\n",
        "model = ... # load your model\n",
        "data = ... # load your data\n",
        "\n",
        "with torch.infernce_mode():\n",
        "    outout = model(data)\n",
        "    # do something cool"
      ]
    },
    {
      "cell_type": "markdown",
      "metadata": {
        "id": "GRYdUYpwElI2"
      },
      "source": [
        "## Tip #3 🔥 - Using `nn.Sequential()`"
      ]
    },
    {
      "cell_type": "code",
      "execution_count": null,
      "metadata": {
        "id": "dC_uef83Ek89"
      },
      "outputs": [],
      "source": [
        "import torch\n",
        "import torch.nn as nn\n",
        "\n",
        "# create a simple model\n",
        "model = nn.Sequential(\n",
        "    nn.Linear(16, 64), # First linear layer\n",
        "    nn.ReLU(), # ReLU activation function for non-linearity\n",
        "    nn.Linear(64, 32),\n",
        "    nn.ReLU(),\n",
        "    nn.Linear(32, 2)\n",
        ")"
      ]
    },
    {
      "cell_type": "markdown",
      "metadata": {
        "id": "cbgCPNclEnVN"
      },
      "source": [
        "## Tip #4 🔥 - Data types in PyTorch"
      ]
    },
    {
      "cell_type": "code",
      "execution_count": null,
      "metadata": {
        "id": "QogDOiU1EoU3"
      },
      "outputs": [],
      "source": [
        "import numpy as np\n",
        "import torch\n",
        "\n",
        "# create a NumPy array\n",
        "numpy_array = np.array([1, 2], [3, 4])\n",
        "\n",
        "# convert it to a PyTorch tensor\n",
        "torch_array = torch.from_numpy(numpy_array).type(torch.float32) # torch's default data type = float32\n",
        "\n",
        "# convert back to NumPy array\n",
        "numpy_array = torch_array.numpy().asytpe(np.int64) # convert back to NumPy's default data type"
      ]
    },
    {
      "cell_type": "markdown",
      "metadata": {
        "id": "RXA3VXp0Eqrr"
      },
      "source": [
        "## Tip #5 🔥 - Attention machenism"
      ]
    },
    {
      "cell_type": "markdown",
      "metadata": {
        "id": "DziVEZDNIaIy"
      },
      "source": [
        "Check out https://colab.research.google.com/drive/1hXIQ77A4TYS4y3UthWF-Ci7V7vVUoxmQ?usp=sharing#scrollTo=twSVFOM9SopW as well!"
      ]
    },
    {
      "cell_type": "code",
      "execution_count": null,
      "metadata": {
        "id": "Ib1Nxw1LEtEm"
      },
      "outputs": [],
      "source": [
        "import torch\n",
        "import torch.nn as nn\n",
        "import torch.nn.functional as F\n",
        "\n",
        "# Initialize the MultiheadAttention module\n",
        "multihead_attn = nn.MultiheadAttention(embed_dim=32, num_heads=8)\n",
        "\n",
        "# Dummy data for query, key, value\n",
        "query = torch.rand(8, 8, 32)  # (L, N, E) where L is the target sequence length, N is the batch size, E is the embedding dimension\n",
        "key = torch.rand(8, 8, 32)    # (S, N, E) where S is the source sequence length\n",
        "value = torch.rand(8, 8, 32)\n",
        "\n",
        "# Apply the attention to the query, key, value\n",
        "attn_output, attn_output_weights = multihead_attn(query, key, value)"
      ]
    },
    {
      "cell_type": "code",
      "execution_count": null,
      "metadata": {
        "id": "8YR8SFJQISjo"
      },
      "outputs": [],
      "source": [
        "import matplotlib.pyplot as plt\n",
        "import seaborn as sns\n",
        "\n",
        "# Convert the attention weights to a NumPy array and plot it\n",
        "attn_weights_np = attn_output_weights.detach().numpy()\n",
        "sns.heatmap(attn_weights_np[0], annot=True, fmt=\".2f\")\n",
        "plt.show()"
      ]
    },
    {
      "cell_type": "markdown",
      "metadata": {
        "id": "Qo8-UPCCEtwO"
      },
      "source": [
        "## Tip #6 🔥 - Loading models for transfer learning"
      ]
    },
    {
      "cell_type": "code",
      "execution_count": null,
      "metadata": {
        "id": "4QoRc-evEvUK"
      },
      "outputs": [],
      "source": [
        "import torch\n",
        "from torchvision import models\n",
        "import torch.nn as nn\n",
        "\n",
        "class SimpleNet(nn.Module):\n",
        "    def __init__(self, num_classes):\n",
        "        super(SimpleNet, self).__init__()\n",
        "        self.resnet = models.resnet18(pretrained=True)\n",
        "        for param in self.resnet.parameters():\n",
        "            param.requires_grad = False\n",
        "\n",
        "        self.resnet.fc = nn.Linear(self.resnet.fc.in_features, num_classes)\n",
        "\n",
        "    def forward(self, x):\n",
        "        x = self.resnet(x)\n",
        "        return x"
      ]
    },
    {
      "cell_type": "markdown",
      "metadata": {
        "id": "wKaLMZqFEwGb"
      },
      "source": [
        "## Tip #7 🔥 - Torchinfo to inspect models"
      ]
    },
    {
      "cell_type": "code",
      "execution_count": 4,
      "metadata": {
        "id": "bDrZennPEw39"
      },
      "outputs": [
        {
          "data": {
            "text/plain": [
              "=================================================================\n",
              "Layer (type:depth-idx)                   Param #\n",
              "=================================================================\n",
              "ResNet                                   --\n",
              "├─Conv2d: 1-1                            9,408\n",
              "├─BatchNorm2d: 1-2                       128\n",
              "├─ReLU: 1-3                              --\n",
              "├─MaxPool2d: 1-4                         --\n",
              "├─Sequential: 1-5                        --\n",
              "│    └─BasicBlock: 2-1                   --\n",
              "│    │    └─Conv2d: 3-1                  36,864\n",
              "│    │    └─BatchNorm2d: 3-2             128\n",
              "│    │    └─ReLU: 3-3                    --\n",
              "│    │    └─Conv2d: 3-4                  36,864\n",
              "│    │    └─BatchNorm2d: 3-5             128\n",
              "│    └─BasicBlock: 2-2                   --\n",
              "│    │    └─Conv2d: 3-6                  36,864\n",
              "│    │    └─BatchNorm2d: 3-7             128\n",
              "│    │    └─ReLU: 3-8                    --\n",
              "│    │    └─Conv2d: 3-9                  36,864\n",
              "│    │    └─BatchNorm2d: 3-10            128\n",
              "├─Sequential: 1-6                        --\n",
              "│    └─BasicBlock: 2-3                   --\n",
              "│    │    └─Conv2d: 3-11                 73,728\n",
              "│    │    └─BatchNorm2d: 3-12            256\n",
              "│    │    └─ReLU: 3-13                   --\n",
              "│    │    └─Conv2d: 3-14                 147,456\n",
              "│    │    └─BatchNorm2d: 3-15            256\n",
              "│    │    └─Sequential: 3-16             8,448\n",
              "│    └─BasicBlock: 2-4                   --\n",
              "│    │    └─Conv2d: 3-17                 147,456\n",
              "│    │    └─BatchNorm2d: 3-18            256\n",
              "│    │    └─ReLU: 3-19                   --\n",
              "│    │    └─Conv2d: 3-20                 147,456\n",
              "│    │    └─BatchNorm2d: 3-21            256\n",
              "├─Sequential: 1-7                        --\n",
              "│    └─BasicBlock: 2-5                   --\n",
              "│    │    └─Conv2d: 3-22                 294,912\n",
              "│    │    └─BatchNorm2d: 3-23            512\n",
              "│    │    └─ReLU: 3-24                   --\n",
              "│    │    └─Conv2d: 3-25                 589,824\n",
              "│    │    └─BatchNorm2d: 3-26            512\n",
              "│    │    └─Sequential: 3-27             33,280\n",
              "│    └─BasicBlock: 2-6                   --\n",
              "│    │    └─Conv2d: 3-28                 589,824\n",
              "│    │    └─BatchNorm2d: 3-29            512\n",
              "│    │    └─ReLU: 3-30                   --\n",
              "│    │    └─Conv2d: 3-31                 589,824\n",
              "│    │    └─BatchNorm2d: 3-32            512\n",
              "├─Sequential: 1-8                        --\n",
              "│    └─BasicBlock: 2-7                   --\n",
              "│    │    └─Conv2d: 3-33                 1,179,648\n",
              "│    │    └─BatchNorm2d: 3-34            1,024\n",
              "│    │    └─ReLU: 3-35                   --\n",
              "│    │    └─Conv2d: 3-36                 2,359,296\n",
              "│    │    └─BatchNorm2d: 3-37            1,024\n",
              "│    │    └─Sequential: 3-38             132,096\n",
              "│    └─BasicBlock: 2-8                   --\n",
              "│    │    └─Conv2d: 3-39                 2,359,296\n",
              "│    │    └─BatchNorm2d: 3-40            1,024\n",
              "│    │    └─ReLU: 3-41                   --\n",
              "│    │    └─Conv2d: 3-42                 2,359,296\n",
              "│    │    └─BatchNorm2d: 3-43            1,024\n",
              "├─AdaptiveAvgPool2d: 1-9                 --\n",
              "├─Linear: 1-10                           513,000\n",
              "=================================================================\n",
              "Total params: 11,689,512\n",
              "Trainable params: 11,689,512\n",
              "Non-trainable params: 0\n",
              "================================================================="
            ]
          },
          "execution_count": 4,
          "metadata": {},
          "output_type": "execute_result"
        }
      ],
      "source": [
        "from torchvision import models\n",
        "from torchinfo import summary\n",
        "\n",
        "model =  models.resnet18(pretrained=True)\n",
        "summary(model)"
      ]
    }
  ],
  "metadata": {
    "colab": {
      "provenance": []
    },
    "kernelspec": {
      "display_name": "Python 3",
      "name": "python3"
    },
    "language_info": {
      "codemirror_mode": {
        "name": "ipython",
        "version": 3
      },
      "file_extension": ".py",
      "mimetype": "text/x-python",
      "name": "python",
      "nbconvert_exporter": "python",
      "pygments_lexer": "ipython3",
      "version": "3.9.0"
    }
  },
  "nbformat": 4,
  "nbformat_minor": 0
}
